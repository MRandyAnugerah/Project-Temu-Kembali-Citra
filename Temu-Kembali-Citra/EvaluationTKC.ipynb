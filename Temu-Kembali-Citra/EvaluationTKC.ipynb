{
  "nbformat": 4,
  "nbformat_minor": 0,
  "metadata": {
    "colab": {
      "name": "TKC.ipynb",
      "provenance": [],
      "collapsed_sections": []
    },
    "kernelspec": {
      "name": "python3",
      "display_name": "Python 3"
    },
    "language_info": {
      "name": "python"
    },
    "accelerator": "GPU"
  },
  "cells": [
    {
      "cell_type": "code",
      "execution_count": 1,
      "metadata": {
        "id": "XGiZLvgtP2xk"
      },
      "outputs": [],
      "source": [
        "import numpy as np\n",
        "import pandas as pd\n",
        "import matplotlib.pyplot as plt\n",
        "from zipfile import ZipFile"
      ]
    },
    {
      "cell_type": "code",
      "source": [
        "!mkdir data\n",
        "!mkdir beaches\n",
        "!mkdir bus\n",
        "!mkdir dinosaurs\n",
        "!mkdir elephants\n",
        "!mkdir flowers\n",
        "!mkdir foods\n",
        "!mkdir horses\n",
        "!mkdir monuments\n",
        "!mkdir mountains_and_snow\n",
        "!mkdir peolpe_and_villages_in_Africa"
      ],
      "metadata": {
        "id": "d3eaiJAe9HbI"
      },
      "execution_count": 2,
      "outputs": []
    },
    {
      "cell_type": "code",
      "source": [
        "!mv -t data beaches bus dinosaurs elephants flowers foods horses monuments mountains_and_snow peolpe_and_villages_in_Africa"
      ],
      "metadata": {
        "id": "f5PpdZEV933J"
      },
      "execution_count": 3,
      "outputs": []
    },
    {
      "cell_type": "code",
      "source": [
        "!pip install split-folders"
      ],
      "metadata": {
        "colab": {
          "base_uri": "https://localhost:8080/"
        },
        "id": "zYzlGAqhCjrM",
        "outputId": "b4e6ff27-468d-4707-d4b9-ab649805c546"
      },
      "execution_count": 4,
      "outputs": [
        {
          "output_type": "stream",
          "name": "stdout",
          "text": [
            "Collecting split-folders\n",
            "  Downloading split_folders-0.4.3-py3-none-any.whl (7.4 kB)\n",
            "Installing collected packages: split-folders\n",
            "Successfully installed split-folders-0.4.3\n"
          ]
        }
      ]
    },
    {
      "cell_type": "code",
      "source": [
        "base_dir=\"/content\"\n",
        "data_dir=\"/content/data\""
      ],
      "metadata": {
        "id": "3016AXOEDCVO"
      },
      "execution_count": 5,
      "outputs": []
    },
    {
      "cell_type": "code",
      "source": [
        "import splitfolders\n",
        "splitfolders.ratio(data_dir, output=base_dir, seed=1337, ratio=(.7,.15,.15),group_prefix=None)"
      ],
      "metadata": {
        "colab": {
          "base_uri": "https://localhost:8080/"
        },
        "id": "JWab90sDDLvN",
        "outputId": "6b700ba2-f104-40e2-ab5a-c76ea17efac5"
      },
      "execution_count": 6,
      "outputs": [
        {
          "output_type": "stream",
          "name": "stderr",
          "text": [
            "Copying files: 1000 files [00:00, 6118.28 files/s]\n"
          ]
        }
      ]
    },
    {
      "cell_type": "code",
      "source": [
        "import os\n",
        "test = os.listdir('/content/test')\n",
        "train = os.listdir('/content/train')\n",
        "val = os.listdir('/content/val')"
      ],
      "metadata": {
        "id": "UMgARVfcQHle"
      },
      "execution_count": 8,
      "outputs": []
    },
    {
      "cell_type": "code",
      "source": [
        "base_dir = '/content'"
      ],
      "metadata": {
        "id": "8djuEkeISP1H"
      },
      "execution_count": 9,
      "outputs": []
    },
    {
      "cell_type": "code",
      "source": [
        "train_path = os.path.join(base_dir, '/content/train')\n",
        "test_path = os.path.join(base_dir, '/content/test')\n",
        "val_path = os.path.join(base_dir, '/content/val')"
      ],
      "metadata": {
        "id": "vGHTajMbSP3u"
      },
      "execution_count": 10,
      "outputs": []
    },
    {
      "cell_type": "code",
      "source": [
        "from keras.preprocessing.image import ImageDataGenerator\n",
        "from sklearn.utils import shuffle\n",
        "\n",
        "Batch_size=32\n",
        "augmen_gen = ImageDataGenerator(rescale=1. /255,\n",
        "                                rotation_range=40,\n",
        "                                width_shift_range=0.2,\n",
        "                                height_shift_range=0.2,\n",
        "                                zoom_range=0.2,\n",
        "                                horizontal_flip=True,\n",
        "                                fill_mode='nearest')\n",
        "\n",
        "train_gen = augmen_gen.flow_from_directory(\n",
        "    train_path,\n",
        "    class_mode = 'categorical',\n",
        "    shuffle=True,\n",
        "    target_size = (227,227),\n",
        "    batch_size = Batch_size,\n",
        "    color_mode = 'rgb'\n",
        ")\n",
        "\n",
        "test_gen = augmen_gen.flow_from_directory(\n",
        "    test_path,\n",
        "    class_mode = 'categorical',\n",
        "    shuffle=True,\n",
        "    target_size = (227,227),\n",
        "    batch_size = Batch_size,\n",
        "    color_mode = 'rgb'\n",
        ")\n",
        "\n",
        "val_gen = augmen_gen.flow_from_directory(\n",
        "    val_path,\n",
        "    class_mode = 'categorical',\n",
        "    shuffle=False,\n",
        "    target_size = (227,227),\n",
        "    batch_size = Batch_size,\n",
        "    color_mode = 'rgb'\n",
        ")"
      ],
      "metadata": {
        "colab": {
          "base_uri": "https://localhost:8080/"
        },
        "id": "bJiNp-NRSP63",
        "outputId": "8bf9a9e3-14e0-47a0-a6c2-16527004d883"
      },
      "execution_count": 11,
      "outputs": [
        {
          "output_type": "stream",
          "name": "stdout",
          "text": [
            "Found 700 images belonging to 10 classes.\n",
            "Found 150 images belonging to 10 classes.\n",
            "Found 150 images belonging to 10 classes.\n"
          ]
        }
      ]
    },
    {
      "cell_type": "code",
      "source": [
        "%matplotlib inline\n",
        "import matplotlib.pyplot as plt\n",
        "import numpy as np\n",
        "from keras.models import load_model\n",
        "from sklearn.metrics import classification_report, confusion_matrix"
      ],
      "metadata": {
        "id": "s89BQiIhTBHZ"
      },
      "execution_count": 26,
      "outputs": []
    },
    {
      "cell_type": "code",
      "source": [
        "best_model_path = 'best_model_resnet50.h5'"
      ],
      "metadata": {
        "id": "9VPMs9m-Kdfg"
      },
      "execution_count": 62,
      "outputs": []
    },
    {
      "cell_type": "code",
      "source": [
        "resnet50=load_model(best_model_path)\n",
        "\n",
        "ypred = resnet50.predict(val_gen)\n",
        "predictions = np.argmax(ypred, axis = 1)\n",
        "\n",
        "print(classification_report(val_gen.classes,predictions))"
      ],
      "metadata": {
        "id": "zg4TOz-vTGga",
        "colab": {
          "base_uri": "https://localhost:8080/"
        },
        "outputId": "ed136247-8b36-4bf1-e3ef-f3bbbc10777e"
      },
      "execution_count": 65,
      "outputs": [
        {
          "output_type": "stream",
          "name": "stdout",
          "text": [
            "              precision    recall  f1-score   support\n",
            "\n",
            "           0       0.80      0.80      0.80        15\n",
            "           1       0.94      1.00      0.97        15\n",
            "           2       1.00      1.00      1.00        15\n",
            "           3       1.00      0.80      0.89        15\n",
            "           4       1.00      1.00      1.00        15\n",
            "           5       1.00      0.93      0.97        15\n",
            "           6       1.00      1.00      1.00        15\n",
            "           7       0.78      0.93      0.85        15\n",
            "           8       0.92      0.80      0.86        15\n",
            "           9       0.82      0.93      0.87        15\n",
            "\n",
            "    accuracy                           0.92       150\n",
            "   macro avg       0.93      0.92      0.92       150\n",
            "weighted avg       0.93      0.92      0.92       150\n",
            "\n"
          ]
        }
      ]
    }
  ]
}